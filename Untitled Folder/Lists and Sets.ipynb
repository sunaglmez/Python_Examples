{
 "cells": [
  {
   "cell_type": "markdown",
   "metadata": {},
   "source": [
    "# Listeler ve Setler"
   ]
  },
  {
   "cell_type": "code",
   "execution_count": null,
   "metadata": {},
   "outputs": [],
   "source": [
    "liste = [1, 'a', 2, 3, True, 4, 5, 'True', '1']\n"
   ]
  },
  {
   "cell_type": "markdown",
   "metadata": {},
   "source": [
    "Yukarıdaki değişkeni kullanarak, aşağıdaki hücrelerde, şu işlemleri yanıtlandır:\n"
   ]
  },
  {
   "cell_type": "code",
   "execution_count": 7,
   "metadata": {},
   "outputs": [
    {
     "data": {
      "text/plain": [
       "'1'"
      ]
     },
     "execution_count": 7,
     "metadata": {},
     "output_type": "execute_result"
    }
   ],
   "source": [
    "# Listenin son elemanını nasıl bulabiliriz?\n",
    "liste[-1]"
   ]
  },
  {
   "cell_type": "code",
   "execution_count": 11,
   "metadata": {},
   "outputs": [
    {
     "name": "stdout",
     "output_type": "stream",
     "text": [
      "['a', 2, 3]\n"
     ]
    }
   ],
   "source": [
    "# Listenin 2. ve 4. elemanlarını içeren yeni bir liste oluştur (İpucu [::])\n",
    "liste = [1, 'a', 2, 3, True, 4, 5, 'True', '1']\n",
    "liste2=liste[1:4]\n",
    "print(liste2)"
   ]
  },
  {
   "cell_type": "code",
   "execution_count": 15,
   "metadata": {},
   "outputs": [
    {
     "name": "stdout",
     "output_type": "stream",
     "text": [
      "['1', 'True', 5, 4, True, 3, 2, 'a', 1]\n"
     ]
    }
   ],
   "source": [
    "# Listeyi metod kullanarak nasıl ters sıralarsınız?\n",
    "liste = [1, 'a', 2, 3, True, 4, 5, 'True', '1']\n",
    "liste.reverse()\n",
    "print(liste)"
   ]
  },
  {
   "cell_type": "code",
   "execution_count": 22,
   "metadata": {},
   "outputs": [
    {
     "name": "stdout",
     "output_type": "stream",
     "text": [
      "[1, 'a', 2, 3, True, 4, 5, 'True', '1']\n"
     ]
    }
   ],
   "source": [
    "# Listeyi [::] kullanarak nasıl ters sıralarsınız?\n",
    "liste = [1, 'a', 2, 3, True, 4, 5, 'True', '1']\n",
    "liste[::-1]\n",
    "print(liste)"
   ]
  },
  {
   "cell_type": "code",
   "execution_count": 23,
   "metadata": {},
   "outputs": [
    {
     "data": {
      "text/plain": [
       "False"
      ]
     },
     "execution_count": 23,
     "metadata": {},
     "output_type": "execute_result"
    }
   ],
   "source": [
    "# Eğer yukarıdaki listeyi, set'e çevirecek olsak eleman sayısı farklı olur muydu? Neden?\n",
    "#her eleman 1 kere yazılmış ama true'yu teke indiriyor\n",
    "len(liste)==len(set(liste))"
   ]
  },
  {
   "cell_type": "code",
   "execution_count": null,
   "metadata": {},
   "outputs": [],
   "source": [
    "ic_ice_liste = [1,2,3,[4,5]]"
   ]
  },
  {
   "cell_type": "markdown",
   "metadata": {},
   "source": [
    "Yukarıdaki değişkeni kullanarak, aşağıdaki hücrelerde, şu işlemleri yanıtlandır:"
   ]
  },
  {
   "cell_type": "code",
   "execution_count": 29,
   "metadata": {},
   "outputs": [
    {
     "name": "stdout",
     "output_type": "stream",
     "text": [
      "5\n",
      "5\n",
      "5\n",
      "5\n"
     ]
    }
   ],
   "source": [
    "# 5 değerine nasıl ulaşırsınız?\n",
    "ic_ice_liste = [1,2,3,[4,5]]\n",
    "\n",
    "print(ic_ice_liste[-1][-1])\n",
    "print(ic_ice_liste[3][1])\n",
    "print(ic_ice_liste[3][-1])\n",
    "print(ic_ice_liste[-1][1])"
   ]
  },
  {
   "cell_type": "code",
   "execution_count": 40,
   "metadata": {},
   "outputs": [
    {
     "name": "stdout",
     "output_type": "stream",
     "text": [
      "[4, 5]\n"
     ]
    }
   ],
   "source": [
    "#  ic_ice_liste değişkeninin son konumunda bulunan elemanını listeden atın ve bu kısmı bir degişkene atayın\n",
    "ic_ice_liste = [1,2,3,[4,5]]\n",
    "soneleman=ic_ice_liste.pop()\n",
    "print(soneleman)"
   ]
  },
  {
   "cell_type": "code",
   "execution_count": 42,
   "metadata": {},
   "outputs": [
    {
     "name": "stdout",
     "output_type": "stream",
     "text": [
      "[1, 2, [4, 5]]\n"
     ]
    }
   ],
   "source": [
    "#  pop komutunu kullanmayarak listeyi nasil [1,2,[4,5]] sekline cevirebilirsiniz? (Hint: her yol mübah :D )\n",
    "ic_ice_liste = [1,2,3,[4,5]]\n",
    "soneleman=ic_ice_liste.pop(2)\n",
    "print(ic_ice_liste)"
   ]
  }
 ],
 "metadata": {
  "kernelspec": {
   "display_name": "Python 3",
   "language": "python",
   "name": "python3"
  },
  "language_info": {
   "codemirror_mode": {
    "name": "ipython",
    "version": 3
   },
   "file_extension": ".py",
   "mimetype": "text/x-python",
   "name": "python",
   "nbconvert_exporter": "python",
   "pygments_lexer": "ipython3",
   "version": "3.7.6"
  }
 },
 "nbformat": 4,
 "nbformat_minor": 4
}
