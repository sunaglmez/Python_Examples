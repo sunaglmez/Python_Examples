{
 "cells": [
  {
   "cell_type": "markdown",
   "metadata": {},
   "source": [
    "# for Döngüleri"
   ]
  },
  {
   "cell_type": "code",
   "execution_count": 1,
   "metadata": {},
   "outputs": [
    {
     "name": "stdout",
     "output_type": "stream",
     "text": [
      "Ismail Aydemir\n",
      "Uygar Aydin\n",
      "Naz Yagcioglu\n",
      "Ferhat Ibrik\n",
      "Ulas Acil\n",
      "Bilal Kurucay\n"
     ]
    }
   ],
   "source": [
    "yorum_birakanlar = [\"Ismail Aydemir\", \"Uygar Aydin\", \"Naz Yagcioglu\",\"Ferhat Ibrik\",\"Ulas Acil\", \"Bilal Kurucay\"]\n",
    "\n",
    "for isim in yorum_birakanlar:\n",
    "    print(isim)"
   ]
  },
  {
   "cell_type": "code",
   "execution_count": 2,
   "metadata": {},
   "outputs": [
    {
     "name": "stdout",
     "output_type": "stream",
     "text": [
      "1 Ismail Aydemir\n",
      "2 Uygar Aydin\n",
      "3 Naz Yagcioglu\n",
      "4 Ferhat Ibrik\n",
      "5 Ulas Acil\n",
      "6 Bilal Kurucay\n"
     ]
    }
   ],
   "source": [
    "kullanici_sayi = 0\n",
    "for isim in yorum_birakanlar:\n",
    "    kullanici_sayi+=1\n",
    "    print(kullanici_sayi, isim)"
   ]
  },
  {
   "cell_type": "code",
   "execution_count": 3,
   "metadata": {},
   "outputs": [
    {
     "name": "stdout",
     "output_type": "stream",
     "text": [
      "1. Kullanicinin Adi Ismail ve Soyadi Aydemir\n",
      "2. Kullanicinin Adi Uygar ve Soyadi Aydin\n",
      "3. Kullanicinin Adi Naz ve Soyadi Yagcioglu\n",
      "4. Kullanicinin Adi Ferhat ve Soyadi Ibrik\n",
      "5. Kullanicinin Adi Ulas ve Soyadi Acil\n",
      "6. Kullanicinin Adi Bilal ve Soyadi Kurucay\n"
     ]
    }
   ],
   "source": [
    "kullanici_sayi = 0\n",
    "for isim in yorum_birakanlar:\n",
    "    kullanici_sayi+=1\n",
    "    ad, soyad = isim.split()[0], isim.split()[1]\n",
    "    print('{}. Kullanicinin Adi {} ve Soyadi {}'.format(kullanici_sayi,ad,soyad))"
   ]
  },
  {
   "cell_type": "code",
   "execution_count": 4,
   "metadata": {},
   "outputs": [
    {
     "name": "stdout",
     "output_type": "stream",
     "text": [
      "1. Katilimcinin Adi Ismail, Soyadi Aydemir\n",
      "2. Katilimcinin Adi Uygar, Soyadi Aydin\n",
      "3. Katilimcinin Adi Naz, Soyadi Yagcioglu\n",
      "1. Moderatörün Adi Ferhat, Soyadi Ibrik\n",
      "4. Katilimcinin Adi Ulas, Soyadi Acil\n",
      "5. Katilimcinin Adi Bilal, Soyadi Kurucay\n"
     ]
    }
   ],
   "source": [
    "moderator = \"Ferhat Ibrik\"\n",
    "\n",
    "kullanici_sayi = 0\n",
    "moderator_sayi = 0\n",
    "\n",
    "for isim in yorum_birakanlar:\n",
    "    ad, soyad = isim.split()[0], isim.split()[1]\n",
    "    if(isim == moderator):\n",
    "        moderator_sayi+=1\n",
    "        print('{}. Moderatörün Adi {}, Soyadi {}'.format(moderator_sayi,ad,soyad))\n",
    "    else:\n",
    "        kullanici_sayi+=1\n",
    "        print('{}. Katilimcinin Adi {}, Soyadi {}'.format(kullanici_sayi,ad,soyad))    "
   ]
  },
  {
   "cell_type": "code",
   "execution_count": 5,
   "metadata": {},
   "outputs": [
    {
     "name": "stdout",
     "output_type": "stream",
     "text": [
      "1\n",
      "3\n",
      "5\n",
      "7\n"
     ]
    }
   ],
   "source": [
    "tup1 = (1,3,5,7)\n",
    "for sayi in tup1:\n",
    "    print(sayi)"
   ]
  },
  {
   "cell_type": "code",
   "execution_count": 6,
   "metadata": {},
   "outputs": [
    {
     "name": "stdout",
     "output_type": "stream",
     "text": [
      "0\n",
      "6\n",
      "20\n"
     ]
    }
   ],
   "source": [
    "liste = [[0,1],[2,3],[4,5]]\n",
    "\n",
    "for a,b in liste:\n",
    "    print(a*b)"
   ]
  },
  {
   "cell_type": "code",
   "execution_count": 7,
   "metadata": {},
   "outputs": [
    {
     "name": "stdout",
     "output_type": "stream",
     "text": [
      "Key: ad \t Value: Naz\n",
      "Key: soyad \t Value: Yagcioglu\n"
     ]
    }
   ],
   "source": [
    "kullanici1 = {'ad': 'Naz', 'soyad':'Yagcioglu'}\n",
    "for key, value in kullanici1.items():\n",
    "    print(\"Key: {} \\t Value: {}\".format(key, value))"
   ]
  },
  {
   "cell_type": "code",
   "execution_count": 1,
   "metadata": {},
   "outputs": [
    {
     "name": "stdout",
     "output_type": "stream",
     "text": [
      "c\n",
      "o\n",
      "ğ\n",
      "r\n",
      "a\n",
      "f\n",
      "y\n",
      "a\n"
     ]
    }
   ],
   "source": [
    "#Tüm metin (string) türü değişkenler for kullanılarak harf harf sıralanabilir.\n",
    "for x in \"coğrafya\":\n",
    "  print(x)"
   ]
  },
  {
   "cell_type": "code",
   "execution_count": 2,
   "metadata": {},
   "outputs": [
    {
     "name": "stdout",
     "output_type": "stream",
     "text": [
      "elma\n",
      "portakal\n"
     ]
    }
   ],
   "source": [
    "#break İfadesi; Bu ifadeyi kullanarak for döngüsünü elemanların bitmesini beklemeden sonlandırabiliriz.\n",
    "meyveler = [\"elma\", \"portakal\", \"mandalina\"]\n",
    "for x in meyveler:\n",
    "  print(x)\n",
    "  if x == \"portakal\":\n",
    "    break"
   ]
  },
  {
   "cell_type": "code",
   "execution_count": 3,
   "metadata": {},
   "outputs": [
    {
     "name": "stdout",
     "output_type": "stream",
     "text": [
      "elma\n",
      "mandalina\n"
     ]
    }
   ],
   "source": [
    "#continue İfadesi ; Bu ifadeyi kullanarak şimdiki yinelemeyi sonlandırabilir ve bir sonraki yineleme ile devam edebiliriz.\n",
    "meyveler = [\"elma\", \"portakal\", \"mandalina\"]\n",
    "for x in meyveler:\n",
    "  if x == \"portakal\":\n",
    "    continue\n",
    "  print(x)"
   ]
  },
  {
   "cell_type": "code",
   "execution_count": 7,
   "metadata": {},
   "outputs": [
    {
     "name": "stdout",
     "output_type": "stream",
     "text": [
      "0\n",
      "1\n",
      "2\n",
      "3\n",
      "4\n",
      "5\n"
     ]
    }
   ],
   "source": [
    "for x in range(6):\n",
    "  print(x)"
   ]
  },
  {
   "cell_type": "code",
   "execution_count": 8,
   "metadata": {},
   "outputs": [
    {
     "name": "stdout",
     "output_type": "stream",
     "text": [
      "2\n",
      "3\n",
      "4\n",
      "5\n"
     ]
    }
   ],
   "source": [
    "for x in range(2, 6):\n",
    "  print(x)"
   ]
  },
  {
   "cell_type": "code",
   "execution_count": 9,
   "metadata": {},
   "outputs": [
    {
     "name": "stdout",
     "output_type": "stream",
     "text": [
      "0\n",
      "1\n",
      "2\n",
      "3\n",
      "4\n",
      "5\n",
      "Sonunda bitti!\n"
     ]
    }
   ],
   "source": [
    "for x in range(6):\n",
    "  print(x)\n",
    "else:\n",
    "  print(\"Sonunda bitti!\")"
   ]
  },
  {
   "cell_type": "code",
   "execution_count": 10,
   "metadata": {},
   "outputs": [
    {
     "name": "stdout",
     "output_type": "stream",
     "text": [
      "1 A\n",
      "1 B\n",
      "1 C\n",
      "2 A\n",
      "2 B\n",
      "2 C\n",
      "3 A\n",
      "3 B\n",
      "3 C\n"
     ]
    }
   ],
   "source": [
    "sinif = [\"1\",\"2\",\"3\"]\n",
    "sube = [\"A\",\"B\",\"C\"]\n",
    "\n",
    "for x in sinif:\n",
    "   for y in sube:\n",
    "      print(x, y)"
   ]
  }
 ],
 "metadata": {
  "kernelspec": {
   "display_name": "Python 3",
   "language": "python",
   "name": "python3"
  },
  "language_info": {
   "codemirror_mode": {
    "name": "ipython",
    "version": 3
   },
   "file_extension": ".py",
   "mimetype": "text/x-python",
   "name": "python",
   "nbconvert_exporter": "python",
   "pygments_lexer": "ipython3",
   "version": "3.7.6"
  }
 },
 "nbformat": 4,
 "nbformat_minor": 4
}
